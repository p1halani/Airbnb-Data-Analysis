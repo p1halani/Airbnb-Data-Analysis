{
  "nbformat": 4,
  "nbformat_minor": 0,
  "metadata": {
    "colab": {
      "name": "Seattle Airbnb Open Data.ipynb",
      "provenance": [],
      "collapsed_sections": []
    },
    "kernelspec": {
      "name": "python3",
      "display_name": "Python 3"
    }
  },
  "cells": [
    {
      "cell_type": "markdown",
      "metadata": {
        "id": "V6Rnha-lfvNB",
        "colab_type": "text"
      },
      "source": [
        "# Introduction\n",
        "As a prospective Airbnb host in Seattle, I have questions like:\n",
        "* When to rent to maximise revenue, and for maintenance during off-peak?\n",
        "* Common group size of Seattle travelers, is it 2 or family or 4 or larger?\n",
        "* Bedroom configurations to maximise booking rates?\n",
        "* Main factors to achieve good rating?\n",
        "* Does higher ratings hosts has higher revenue?\n",
        "* Common amenities to include?"
      ]
    },
    {
      "cell_type": "code",
      "metadata": {
        "id": "b85lo5i1juLc",
        "colab_type": "code",
        "outputId": "19ed0265-d05c-4342-bc02-6e5468eafd37",
        "cellView": "form",
        "colab": {
          "base_uri": "https://localhost:8080/",
          "height": 34
        }
      },
      "source": [
        "#@title Load Packages\n",
        "import pandas as pd\n",
        "pd.options.mode.chained_assignment = None  # default='warn'\n",
        "import numpy as np\n",
        "import seaborn as sns\n",
        "import matplotlib as mpl\n",
        "import matplotlib.pyplot as plt\n",
        "%matplotlib inline\n",
        "\n",
        "print(\"Packages loaded\")"
      ],
      "execution_count": 0,
      "outputs": [
        {
          "output_type": "stream",
          "text": [
            "Packages loaded\n"
          ],
          "name": "stdout"
        }
      ]
    },
    {
      "cell_type": "markdown",
      "metadata": {
        "id": "QT3CxlNM_C9j",
        "colab_type": "text"
      },
      "source": [
        "# Fetch and Prepare Data\n",
        "Fetch listing and reviews data from csv files, and perform data cleaning\n",
        "* review_score_xx that are empty are assumed that they do not have reviews, so set as zero\n",
        "* bathrooms, bedrooms, and beds that are empty are assumed that they do not have, so set as zero\n",
        "* price has dollar sign, remove it and cast as float\n",
        "* covert date to pandas datatime type\n",
        "\n"
      ]
    },
    {
      "cell_type": "code",
      "metadata": {
        "id": "BwNKcG7elfHn",
        "colab_type": "code",
        "cellView": "both",
        "outputId": "e3aad258-ae2a-42fa-a638-9b5e74712017",
        "colab": {
          "base_uri": "https://localhost:8080/",
          "height": 34
        }
      },
      "source": [
        "#@title Load data from listings.csv\n",
        "# get listings data\n",
        "pd_listings = pd.read_csv(\"https://raw.githubusercontent.com/jinglescode/notebooks/master/kaggle/seattle_airbnb_open_data/listings.csv\")\n",
        "\n",
        "# select columns from pd_listings\n",
        "pd_listings = pd_listings[['id','name','neighbourhood_group_cleansed','latitude','longitude','property_type','room_type','accommodates','bathrooms','bedrooms','beds','amenities','price','guests_included','minimum_nights','number_of_reviews','review_scores_rating','review_scores_accuracy','review_scores_cleanliness','review_scores_checkin','review_scores_communication','review_scores_location','review_scores_value']]\n",
        "\n",
        "# basic data cleaning\n",
        "pd_listings['price'] = pd_listings['price'].str.replace(\"[$, ]\", \"\").astype(\"float\")\n",
        "\n",
        "pd_listings.at[pd_listings['bathrooms'].isnull(), 'bathrooms'] = 0\n",
        "pd_listings.at[pd_listings['bedrooms'].isnull(), 'bedrooms'] = 0 # yea there are 6 that has no bedrooms, but they do have 1 bathrooms\n",
        "pd_listings.at[pd_listings['beds'].isnull(), 'beds'] = 0 # there's one listing for 1 guest, without any beds\n",
        "\n",
        "pd_listings.at[pd_listings['review_scores_rating'].isnull(), 'review_scores_rating'] = 0\n",
        "pd_listings.at[pd_listings['review_scores_accuracy'].isnull(), 'review_scores_accuracy'] = 0\n",
        "pd_listings.at[pd_listings['review_scores_cleanliness'].isnull(), 'review_scores_cleanliness'] = 0\n",
        "pd_listings.at[pd_listings['review_scores_checkin'].isnull(), 'review_scores_checkin'] = 0\n",
        "pd_listings.at[pd_listings['review_scores_communication'].isnull(), 'review_scores_communication'] = 0\n",
        "pd_listings.at[pd_listings['review_scores_location'].isnull(), 'review_scores_location'] = 0\n",
        "pd_listings.at[pd_listings['review_scores_value'].isnull(), 'review_scores_value'] = 0\n",
        "\n",
        "pd_listings.rename(columns={'id':'listing_id'}, inplace=True)\n",
        "\n",
        "# pd_listings.describe()\n",
        "\n",
        "print('listings.csv loaded into pd_listings')"
      ],
      "execution_count": 0,
      "outputs": [
        {
          "output_type": "stream",
          "text": [
            "listings.csv loaded into pd_listings\n"
          ],
          "name": "stdout"
        }
      ]
    },
    {
      "cell_type": "code",
      "metadata": {
        "id": "6kayoy_tQb-3",
        "colab_type": "code",
        "cellView": "both",
        "outputId": "c3affeec-592d-4851-c0e5-9597c2af1ada",
        "colab": {
          "base_uri": "https://localhost:8080/",
          "height": 34
        }
      },
      "source": [
        "#@title Load data from reviews.csv\n",
        "pd_reviews = pd.read_csv(\"https://raw.githubusercontent.com/jinglescode/notebooks/master/kaggle/seattle_airbnb_open_data/reviews.csv\")\n",
        "\n",
        "pd_reviews = pd_reviews[['id','listing_id','date']]\n",
        "\n",
        "# basic conversions\n",
        "pd_reviews['date'] = pd.to_datetime(pd_reviews['date'])\n",
        "\n",
        "# pd_reviews.head()\n",
        "print('reviews.csv loaded into pd_reviews')"
      ],
      "execution_count": 0,
      "outputs": [
        {
          "output_type": "stream",
          "text": [
            "reviews.csv loaded into pd_reviews\n"
          ],
          "name": "stdout"
        }
      ]
    },
    {
      "cell_type": "markdown",
      "metadata": {
        "id": "8wDWQ1CxJ2xC",
        "colab_type": "text"
      },
      "source": [
        "**Check if reviews.csv tally with listings.csv**\n",
        "\n",
        "In listings.csv, it has 'number_of_reviews' column, so just to check if number of reviews in reviews.csv is equal to SUM(number_of_reviews). Result shows empty result (0 rows), means that the number of reviews in reviews.csv matches the sum of number_of_reviews in listings.csv. \n",
        "\n",
        "**Create bookings DataFrame**\n",
        "\n",
        "With this, I shall create a dataframe pd_bookings using each review as one booking, and estimate revenue by (price * minimum_nights)"
      ]
    },
    {
      "cell_type": "code",
      "metadata": {
        "id": "0BPSPsyN8v8n",
        "colab_type": "code",
        "outputId": "2aa8dd4d-2408-4620-e66d-31f81697a9a2",
        "cellView": "form",
        "colab": {
          "base_uri": "https://localhost:8080/",
          "height": 86
        }
      },
      "source": [
        "#@title \n",
        "pd_listing_count_reviws = pd_reviews[['listing_id','id']].groupby(['listing_id']).count()\n",
        "pd_listing_count_reviws.columns = ['# of reviews']\n",
        "# pd_listing_count_reviws['listing_id'] = pd_listing_count_reviws.index\n",
        "\n",
        "pd_listings_plus_reviews = pd.merge(pd_listings, pd_listing_count_reviws, on='listing_id')\n",
        "\n",
        "pd_listings_plus_reviews.at[pd_listings_plus_reviews['# of reviews'].isnull(), '# of reviews'] = 0\n",
        "\n",
        "pd_listings_plus_reviews[ pd_listings_plus_reviews['# of reviews'] != pd_listings_plus_reviews['number_of_reviews']]"
      ],
      "execution_count": 0,
      "outputs": [
        {
          "output_type": "execute_result",
          "data": {
            "text/html": [
              "<div>\n",
              "<style scoped>\n",
              "    .dataframe tbody tr th:only-of-type {\n",
              "        vertical-align: middle;\n",
              "    }\n",
              "\n",
              "    .dataframe tbody tr th {\n",
              "        vertical-align: top;\n",
              "    }\n",
              "\n",
              "    .dataframe thead th {\n",
              "        text-align: right;\n",
              "    }\n",
              "</style>\n",
              "<table border=\"1\" class=\"dataframe\">\n",
              "  <thead>\n",
              "    <tr style=\"text-align: right;\">\n",
              "      <th></th>\n",
              "      <th>listing_id</th>\n",
              "      <th>name</th>\n",
              "      <th>neighbourhood_group_cleansed</th>\n",
              "      <th>latitude</th>\n",
              "      <th>longitude</th>\n",
              "      <th>property_type</th>\n",
              "      <th>room_type</th>\n",
              "      <th>accommodates</th>\n",
              "      <th>bathrooms</th>\n",
              "      <th>bedrooms</th>\n",
              "      <th>beds</th>\n",
              "      <th>amenities</th>\n",
              "      <th>price</th>\n",
              "      <th>guests_included</th>\n",
              "      <th>minimum_nights</th>\n",
              "      <th>number_of_reviews</th>\n",
              "      <th>review_scores_rating</th>\n",
              "      <th>review_scores_accuracy</th>\n",
              "      <th>review_scores_cleanliness</th>\n",
              "      <th>review_scores_checkin</th>\n",
              "      <th>review_scores_communication</th>\n",
              "      <th>review_scores_location</th>\n",
              "      <th>review_scores_value</th>\n",
              "      <th># of reviews</th>\n",
              "    </tr>\n",
              "  </thead>\n",
              "  <tbody>\n",
              "  </tbody>\n",
              "</table>\n",
              "</div>"
            ],
            "text/plain": [
              "Empty DataFrame\n",
              "Columns: [listing_id, name, neighbourhood_group_cleansed, latitude, longitude, property_type, room_type, accommodates, bathrooms, bedrooms, beds, amenities, price, guests_included, minimum_nights, number_of_reviews, review_scores_rating, review_scores_accuracy, review_scores_cleanliness, review_scores_checkin, review_scores_communication, review_scores_location, review_scores_value, # of reviews]\n",
              "Index: []"
            ]
          },
          "metadata": {
            "tags": []
          },
          "execution_count": 4
        }
      ]
    },
    {
      "cell_type": "code",
      "metadata": {
        "id": "nRz7ivxnMlAz",
        "colab_type": "code",
        "cellView": "form",
        "colab": {}
      },
      "source": [
        "#@title Calculate estimated revenue for each listing\n",
        "\n",
        "# get estimated bookings base on reviews\n",
        "pd_bookings = pd.merge(pd_reviews, pd_listings, on='listing_id')\n",
        "pd_bookings['estimated_revenue'] = pd_bookings['price'] * pd_bookings['minimum_nights']\n",
        "\n",
        "# get revenue by listings\n",
        "pd_listings_revenue = pd_bookings[['listing_id','estimated_revenue']].groupby(['listing_id']).sum()\n",
        "# pd_listings_revenue['listing_id'] = pd_listings_revenue.index\n",
        "\n",
        "pd_listings = pd.merge(pd_listings, pd_listings_revenue, on='listing_id', how='left')\n",
        "pd_listings.at[pd_listings['estimated_revenue'].isnull(), 'estimated_revenue'] = 0"
      ],
      "execution_count": 0,
      "outputs": []
    },
    {
      "cell_type": "markdown",
      "metadata": {
        "id": "bwyT9Q88KCTm",
        "colab_type": "text"
      },
      "source": [
        "# Time to answer some questions"
      ]
    },
    {
      "cell_type": "code",
      "metadata": {
        "id": "xvALlL-zY80R",
        "colab_type": "code",
        "outputId": "6be70bce-a0fc-4ff6-d2b6-75df0fc2bd2d",
        "cellView": "form",
        "colab": {
          "base_uri": "https://localhost:8080/",
          "height": 204
        }
      },
      "source": [
        "#@title Showing 5 highest revenue listings\n",
        "pd_listings[['listing_id','number_of_reviews','minimum_nights','accommodates','bedrooms','beds','estimated_revenue']].sort_values('estimated_revenue', ascending=False).head()"
      ],
      "execution_count": 0,
      "outputs": [
        {
          "output_type": "execute_result",
          "data": {
            "text/html": [
              "<div>\n",
              "<style scoped>\n",
              "    .dataframe tbody tr th:only-of-type {\n",
              "        vertical-align: middle;\n",
              "    }\n",
              "\n",
              "    .dataframe tbody tr th {\n",
              "        vertical-align: top;\n",
              "    }\n",
              "\n",
              "    .dataframe thead th {\n",
              "        text-align: right;\n",
              "    }\n",
              "</style>\n",
              "<table border=\"1\" class=\"dataframe\">\n",
              "  <thead>\n",
              "    <tr style=\"text-align: right;\">\n",
              "      <th></th>\n",
              "      <th>listing_id</th>\n",
              "      <th>number_of_reviews</th>\n",
              "      <th>minimum_nights</th>\n",
              "      <th>accommodates</th>\n",
              "      <th>bedrooms</th>\n",
              "      <th>beds</th>\n",
              "      <th>estimated_revenue</th>\n",
              "    </tr>\n",
              "  </thead>\n",
              "  <tbody>\n",
              "    <tr>\n",
              "      <th>2617</th>\n",
              "      <td>3594885</td>\n",
              "      <td>8</td>\n",
              "      <td>1000</td>\n",
              "      <td>4</td>\n",
              "      <td>1.0</td>\n",
              "      <td>1.0</td>\n",
              "      <td>1200000.0</td>\n",
              "    </tr>\n",
              "    <tr>\n",
              "      <th>2107</th>\n",
              "      <td>5056580</td>\n",
              "      <td>100</td>\n",
              "      <td>31</td>\n",
              "      <td>2</td>\n",
              "      <td>1.0</td>\n",
              "      <td>1.0</td>\n",
              "      <td>306900.0</td>\n",
              "    </tr>\n",
              "    <tr>\n",
              "      <th>1500</th>\n",
              "      <td>4009508</td>\n",
              "      <td>38</td>\n",
              "      <td>20</td>\n",
              "      <td>5</td>\n",
              "      <td>2.0</td>\n",
              "      <td>2.0</td>\n",
              "      <td>266000.0</td>\n",
              "    </tr>\n",
              "    <tr>\n",
              "      <th>1537</th>\n",
              "      <td>1954452</td>\n",
              "      <td>71</td>\n",
              "      <td>14</td>\n",
              "      <td>2</td>\n",
              "      <td>1.0</td>\n",
              "      <td>1.0</td>\n",
              "      <td>218680.0</td>\n",
              "    </tr>\n",
              "    <tr>\n",
              "      <th>1519</th>\n",
              "      <td>3971934</td>\n",
              "      <td>48</td>\n",
              "      <td>20</td>\n",
              "      <td>3</td>\n",
              "      <td>1.0</td>\n",
              "      <td>1.0</td>\n",
              "      <td>171840.0</td>\n",
              "    </tr>\n",
              "  </tbody>\n",
              "</table>\n",
              "</div>"
            ],
            "text/plain": [
              "      listing_id  number_of_reviews  ...  beds  estimated_revenue\n",
              "2617     3594885                  8  ...   1.0          1200000.0\n",
              "2107     5056580                100  ...   1.0           306900.0\n",
              "1500     4009508                 38  ...   2.0           266000.0\n",
              "1537     1954452                 71  ...   1.0           218680.0\n",
              "1519     3971934                 48  ...   1.0           171840.0\n",
              "\n",
              "[5 rows x 7 columns]"
            ]
          },
          "metadata": {
            "tags": []
          },
          "execution_count": 6
        }
      ]
    },
    {
      "cell_type": "markdown",
      "metadata": {
        "id": "BSzM5ZcvSwGI",
        "colab_type": "text"
      },
      "source": [
        "Wow! Looks like our top earners are hosts have minimum nights of 1000. But it might be data anomaly because 1000 nights are kind of extreme, so let's look at the proportion of listings with different minimum_nights."
      ]
    },
    {
      "cell_type": "code",
      "metadata": {
        "id": "TI798sgQSwYN",
        "colab_type": "code",
        "outputId": "474ace48-c2db-41a7-e2ed-8af8c513a0ed",
        "colab": {
          "base_uri": "https://localhost:8080/",
          "height": 762
        }
      },
      "source": [
        "pd_listings[['listing_id','minimum_nights']].groupby(['minimum_nights']).count().sort_values('minimum_nights')"
      ],
      "execution_count": 0,
      "outputs": [
        {
          "output_type": "execute_result",
          "data": {
            "text/html": [
              "<div>\n",
              "<style scoped>\n",
              "    .dataframe tbody tr th:only-of-type {\n",
              "        vertical-align: middle;\n",
              "    }\n",
              "\n",
              "    .dataframe tbody tr th {\n",
              "        vertical-align: top;\n",
              "    }\n",
              "\n",
              "    .dataframe thead th {\n",
              "        text-align: right;\n",
              "    }\n",
              "</style>\n",
              "<table border=\"1\" class=\"dataframe\">\n",
              "  <thead>\n",
              "    <tr style=\"text-align: right;\">\n",
              "      <th></th>\n",
              "      <th>listing_id</th>\n",
              "    </tr>\n",
              "    <tr>\n",
              "      <th>minimum_nights</th>\n",
              "      <th></th>\n",
              "    </tr>\n",
              "  </thead>\n",
              "  <tbody>\n",
              "    <tr>\n",
              "      <th>1</th>\n",
              "      <td>1610</td>\n",
              "    </tr>\n",
              "    <tr>\n",
              "      <th>2</th>\n",
              "      <td>1423</td>\n",
              "    </tr>\n",
              "    <tr>\n",
              "      <th>3</th>\n",
              "      <td>480</td>\n",
              "    </tr>\n",
              "    <tr>\n",
              "      <th>4</th>\n",
              "      <td>122</td>\n",
              "    </tr>\n",
              "    <tr>\n",
              "      <th>5</th>\n",
              "      <td>67</td>\n",
              "    </tr>\n",
              "    <tr>\n",
              "      <th>6</th>\n",
              "      <td>16</td>\n",
              "    </tr>\n",
              "    <tr>\n",
              "      <th>7</th>\n",
              "      <td>50</td>\n",
              "    </tr>\n",
              "    <tr>\n",
              "      <th>8</th>\n",
              "      <td>1</td>\n",
              "    </tr>\n",
              "    <tr>\n",
              "      <th>10</th>\n",
              "      <td>5</td>\n",
              "    </tr>\n",
              "    <tr>\n",
              "      <th>11</th>\n",
              "      <td>1</td>\n",
              "    </tr>\n",
              "    <tr>\n",
              "      <th>12</th>\n",
              "      <td>1</td>\n",
              "    </tr>\n",
              "    <tr>\n",
              "      <th>13</th>\n",
              "      <td>2</td>\n",
              "    </tr>\n",
              "    <tr>\n",
              "      <th>14</th>\n",
              "      <td>16</td>\n",
              "    </tr>\n",
              "    <tr>\n",
              "      <th>15</th>\n",
              "      <td>1</td>\n",
              "    </tr>\n",
              "    <tr>\n",
              "      <th>20</th>\n",
              "      <td>11</td>\n",
              "    </tr>\n",
              "    <tr>\n",
              "      <th>21</th>\n",
              "      <td>1</td>\n",
              "    </tr>\n",
              "    <tr>\n",
              "      <th>26</th>\n",
              "      <td>1</td>\n",
              "    </tr>\n",
              "    <tr>\n",
              "      <th>28</th>\n",
              "      <td>1</td>\n",
              "    </tr>\n",
              "    <tr>\n",
              "      <th>29</th>\n",
              "      <td>1</td>\n",
              "    </tr>\n",
              "    <tr>\n",
              "      <th>30</th>\n",
              "      <td>6</td>\n",
              "    </tr>\n",
              "    <tr>\n",
              "      <th>31</th>\n",
              "      <td>1</td>\n",
              "    </tr>\n",
              "    <tr>\n",
              "      <th>1000</th>\n",
              "      <td>1</td>\n",
              "    </tr>\n",
              "  </tbody>\n",
              "</table>\n",
              "</div>"
            ],
            "text/plain": [
              "                listing_id\n",
              "minimum_nights            \n",
              "1                     1610\n",
              "2                     1423\n",
              "3                      480\n",
              "4                      122\n",
              "5                       67\n",
              "6                       16\n",
              "7                       50\n",
              "8                        1\n",
              "10                       5\n",
              "11                       1\n",
              "12                       1\n",
              "13                       2\n",
              "14                      16\n",
              "15                       1\n",
              "20                      11\n",
              "21                       1\n",
              "26                       1\n",
              "28                       1\n",
              "29                       1\n",
              "30                       6\n",
              "31                       1\n",
              "1000                     1"
            ]
          },
          "metadata": {
            "tags": []
          },
          "execution_count": 7
        }
      ]
    },
    {
      "cell_type": "markdown",
      "metadata": {
        "id": "tK-6IUkCLEFO",
        "colab_type": "text"
      },
      "source": [
        "Most hosts have minimum_nights of up to a month, the host with 1000 nights, gotta filter it away."
      ]
    },
    {
      "cell_type": "code",
      "metadata": {
        "id": "gkg8Q5j_LYii",
        "colab_type": "code",
        "outputId": "7517a978-06f8-4c76-b9d8-9bd698a3aa09",
        "cellView": "form",
        "colab": {
          "base_uri": "https://localhost:8080/",
          "height": 204
        }
      },
      "source": [
        "#@title Showing 5 highest revenue listings (minimum_nights <= 7)\n",
        "pd_listings.loc[pd_listings['minimum_nights']<=7, ['listing_id','number_of_reviews','minimum_nights','accommodates','bedrooms','beds','estimated_revenue']].sort_values('estimated_revenue', ascending=False).head()"
      ],
      "execution_count": 0,
      "outputs": [
        {
          "output_type": "execute_result",
          "data": {
            "text/html": [
              "<div>\n",
              "<style scoped>\n",
              "    .dataframe tbody tr th:only-of-type {\n",
              "        vertical-align: middle;\n",
              "    }\n",
              "\n",
              "    .dataframe tbody tr th {\n",
              "        vertical-align: top;\n",
              "    }\n",
              "\n",
              "    .dataframe thead th {\n",
              "        text-align: right;\n",
              "    }\n",
              "</style>\n",
              "<table border=\"1\" class=\"dataframe\">\n",
              "  <thead>\n",
              "    <tr style=\"text-align: right;\">\n",
              "      <th></th>\n",
              "      <th>listing_id</th>\n",
              "      <th>number_of_reviews</th>\n",
              "      <th>minimum_nights</th>\n",
              "      <th>accommodates</th>\n",
              "      <th>bedrooms</th>\n",
              "      <th>beds</th>\n",
              "      <th>estimated_revenue</th>\n",
              "    </tr>\n",
              "  </thead>\n",
              "  <tbody>\n",
              "    <tr>\n",
              "      <th>1070</th>\n",
              "      <td>3385421</td>\n",
              "      <td>31</td>\n",
              "      <td>6</td>\n",
              "      <td>4</td>\n",
              "      <td>2.0</td>\n",
              "      <td>2.0</td>\n",
              "      <td>103602.0</td>\n",
              "    </tr>\n",
              "    <tr>\n",
              "      <th>2</th>\n",
              "      <td>3308979</td>\n",
              "      <td>20</td>\n",
              "      <td>4</td>\n",
              "      <td>11</td>\n",
              "      <td>5.0</td>\n",
              "      <td>7.0</td>\n",
              "      <td>78000.0</td>\n",
              "    </tr>\n",
              "    <tr>\n",
              "      <th>3667</th>\n",
              "      <td>53803</td>\n",
              "      <td>41</td>\n",
              "      <td>7</td>\n",
              "      <td>4</td>\n",
              "      <td>3.0</td>\n",
              "      <td>3.0</td>\n",
              "      <td>71750.0</td>\n",
              "    </tr>\n",
              "    <tr>\n",
              "      <th>1592</th>\n",
              "      <td>9460</td>\n",
              "      <td>240</td>\n",
              "      <td>3</td>\n",
              "      <td>2</td>\n",
              "      <td>1.0</td>\n",
              "      <td>1.0</td>\n",
              "      <td>71280.0</td>\n",
              "    </tr>\n",
              "    <tr>\n",
              "      <th>3165</th>\n",
              "      <td>3040278</td>\n",
              "      <td>156</td>\n",
              "      <td>2</td>\n",
              "      <td>4</td>\n",
              "      <td>2.0</td>\n",
              "      <td>2.0</td>\n",
              "      <td>67704.0</td>\n",
              "    </tr>\n",
              "  </tbody>\n",
              "</table>\n",
              "</div>"
            ],
            "text/plain": [
              "      listing_id  number_of_reviews  ...  beds  estimated_revenue\n",
              "1070     3385421                 31  ...   2.0           103602.0\n",
              "2        3308979                 20  ...   7.0            78000.0\n",
              "3667       53803                 41  ...   3.0            71750.0\n",
              "1592        9460                240  ...   1.0            71280.0\n",
              "3165     3040278                156  ...   2.0            67704.0\n",
              "\n",
              "[5 rows x 7 columns]"
            ]
          },
          "metadata": {
            "tags": []
          },
          "execution_count": 8
        }
      ]
    },
    {
      "cell_type": "code",
      "metadata": {
        "id": "1IhfK2hBV0Zp",
        "colab_type": "code",
        "cellView": "form",
        "outputId": "6a602e63-2b79-46d0-bd11-05c035243283",
        "colab": {
          "base_uri": "https://localhost:8080/",
          "height": 204
        }
      },
      "source": [
        "#@title Showing 5 highest revenue listings (minimum_nights <= 4)\n",
        "pd_listings.loc[pd_listings['minimum_nights']<=4, ['listing_id','number_of_reviews','minimum_nights','accommodates','bedrooms','beds','estimated_revenue']].sort_values('estimated_revenue', ascending=False).head()"
      ],
      "execution_count": 0,
      "outputs": [
        {
          "output_type": "execute_result",
          "data": {
            "text/html": [
              "<div>\n",
              "<style scoped>\n",
              "    .dataframe tbody tr th:only-of-type {\n",
              "        vertical-align: middle;\n",
              "    }\n",
              "\n",
              "    .dataframe tbody tr th {\n",
              "        vertical-align: top;\n",
              "    }\n",
              "\n",
              "    .dataframe thead th {\n",
              "        text-align: right;\n",
              "    }\n",
              "</style>\n",
              "<table border=\"1\" class=\"dataframe\">\n",
              "  <thead>\n",
              "    <tr style=\"text-align: right;\">\n",
              "      <th></th>\n",
              "      <th>listing_id</th>\n",
              "      <th>number_of_reviews</th>\n",
              "      <th>minimum_nights</th>\n",
              "      <th>accommodates</th>\n",
              "      <th>bedrooms</th>\n",
              "      <th>beds</th>\n",
              "      <th>estimated_revenue</th>\n",
              "    </tr>\n",
              "  </thead>\n",
              "  <tbody>\n",
              "    <tr>\n",
              "      <th>2</th>\n",
              "      <td>3308979</td>\n",
              "      <td>20</td>\n",
              "      <td>4</td>\n",
              "      <td>11</td>\n",
              "      <td>5.0</td>\n",
              "      <td>7.0</td>\n",
              "      <td>78000.0</td>\n",
              "    </tr>\n",
              "    <tr>\n",
              "      <th>1592</th>\n",
              "      <td>9460</td>\n",
              "      <td>240</td>\n",
              "      <td>3</td>\n",
              "      <td>2</td>\n",
              "      <td>1.0</td>\n",
              "      <td>1.0</td>\n",
              "      <td>71280.0</td>\n",
              "    </tr>\n",
              "    <tr>\n",
              "      <th>3165</th>\n",
              "      <td>3040278</td>\n",
              "      <td>156</td>\n",
              "      <td>2</td>\n",
              "      <td>4</td>\n",
              "      <td>2.0</td>\n",
              "      <td>2.0</td>\n",
              "      <td>67704.0</td>\n",
              "    </tr>\n",
              "    <tr>\n",
              "      <th>3216</th>\n",
              "      <td>481220</td>\n",
              "      <td>164</td>\n",
              "      <td>2</td>\n",
              "      <td>4</td>\n",
              "      <td>1.0</td>\n",
              "      <td>3.0</td>\n",
              "      <td>63960.0</td>\n",
              "    </tr>\n",
              "    <tr>\n",
              "      <th>2922</th>\n",
              "      <td>699596</td>\n",
              "      <td>136</td>\n",
              "      <td>3</td>\n",
              "      <td>2</td>\n",
              "      <td>1.0</td>\n",
              "      <td>1.0</td>\n",
              "      <td>61200.0</td>\n",
              "    </tr>\n",
              "  </tbody>\n",
              "</table>\n",
              "</div>"
            ],
            "text/plain": [
              "      listing_id  number_of_reviews  ...  beds  estimated_revenue\n",
              "2        3308979                 20  ...   7.0            78000.0\n",
              "1592        9460                240  ...   1.0            71280.0\n",
              "3165     3040278                156  ...   2.0            67704.0\n",
              "3216      481220                164  ...   3.0            63960.0\n",
              "2922      699596                136  ...   1.0            61200.0\n",
              "\n",
              "[5 rows x 7 columns]"
            ]
          },
          "metadata": {
            "tags": []
          },
          "execution_count": 9
        }
      ]
    },
    {
      "cell_type": "markdown",
      "metadata": {
        "id": "PLjh8P2BNCqJ",
        "colab_type": "text"
      },
      "source": [
        "Short term hosts has lower revenue compared to our long term hosts. What is the correlation between minimum nights and estimated revenue?"
      ]
    },
    {
      "cell_type": "code",
      "metadata": {
        "id": "3-leZ0k3WO-k",
        "colab_type": "code",
        "cellView": "form",
        "outputId": "19c58940-955a-4099-ff78-220ddd9357c5",
        "colab": {
          "base_uri": "https://localhost:8080/",
          "height": 111
        }
      },
      "source": [
        "#@title Correlation between minimum nights and estimated revenue (not filtering min night 1000)\n",
        "pd_listings[['minimum_nights','estimated_revenue']].corr()"
      ],
      "execution_count": 0,
      "outputs": [
        {
          "output_type": "execute_result",
          "data": {
            "text/html": [
              "<div>\n",
              "<style scoped>\n",
              "    .dataframe tbody tr th:only-of-type {\n",
              "        vertical-align: middle;\n",
              "    }\n",
              "\n",
              "    .dataframe tbody tr th {\n",
              "        vertical-align: top;\n",
              "    }\n",
              "\n",
              "    .dataframe thead th {\n",
              "        text-align: right;\n",
              "    }\n",
              "</style>\n",
              "<table border=\"1\" class=\"dataframe\">\n",
              "  <thead>\n",
              "    <tr style=\"text-align: right;\">\n",
              "      <th></th>\n",
              "      <th>minimum_nights</th>\n",
              "      <th>estimated_revenue</th>\n",
              "    </tr>\n",
              "  </thead>\n",
              "  <tbody>\n",
              "    <tr>\n",
              "      <th>minimum_nights</th>\n",
              "      <td>1.000000</td>\n",
              "      <td>0.872084</td>\n",
              "    </tr>\n",
              "    <tr>\n",
              "      <th>estimated_revenue</th>\n",
              "      <td>0.872084</td>\n",
              "      <td>1.000000</td>\n",
              "    </tr>\n",
              "  </tbody>\n",
              "</table>\n",
              "</div>"
            ],
            "text/plain": [
              "                   minimum_nights  estimated_revenue\n",
              "minimum_nights           1.000000           0.872084\n",
              "estimated_revenue        0.872084           1.000000"
            ]
          },
          "metadata": {
            "tags": []
          },
          "execution_count": 10
        }
      ]
    },
    {
      "cell_type": "code",
      "metadata": {
        "id": "yRYYjq5WNX38",
        "colab_type": "code",
        "outputId": "6fd2bf29-4205-4dae-dd1e-a6fc2c7ae8c9",
        "cellView": "form",
        "colab": {
          "base_uri": "https://localhost:8080/",
          "height": 111
        }
      },
      "source": [
        "#@title Correlation between minimum nights and estimated revenue (filter min night 1000)\n",
        "pd_listings.loc[pd_listings['minimum_nights']<=7, ['minimum_nights','estimated_revenue']].corr()"
      ],
      "execution_count": 0,
      "outputs": [
        {
          "output_type": "execute_result",
          "data": {
            "text/html": [
              "<div>\n",
              "<style scoped>\n",
              "    .dataframe tbody tr th:only-of-type {\n",
              "        vertical-align: middle;\n",
              "    }\n",
              "\n",
              "    .dataframe tbody tr th {\n",
              "        vertical-align: top;\n",
              "    }\n",
              "\n",
              "    .dataframe thead th {\n",
              "        text-align: right;\n",
              "    }\n",
              "</style>\n",
              "<table border=\"1\" class=\"dataframe\">\n",
              "  <thead>\n",
              "    <tr style=\"text-align: right;\">\n",
              "      <th></th>\n",
              "      <th>minimum_nights</th>\n",
              "      <th>estimated_revenue</th>\n",
              "    </tr>\n",
              "  </thead>\n",
              "  <tbody>\n",
              "    <tr>\n",
              "      <th>minimum_nights</th>\n",
              "      <td>1.000000</td>\n",
              "      <td>0.199189</td>\n",
              "    </tr>\n",
              "    <tr>\n",
              "      <th>estimated_revenue</th>\n",
              "      <td>0.199189</td>\n",
              "      <td>1.000000</td>\n",
              "    </tr>\n",
              "  </tbody>\n",
              "</table>\n",
              "</div>"
            ],
            "text/plain": [
              "                   minimum_nights  estimated_revenue\n",
              "minimum_nights           1.000000           0.199189\n",
              "estimated_revenue        0.199189           1.000000"
            ]
          },
          "metadata": {
            "tags": []
          },
          "execution_count": 11
        }
      ]
    },
    {
      "cell_type": "markdown",
      "metadata": {
        "id": "oJMHyV6LOTN5",
        "colab_type": "text"
      },
      "source": [
        "Host with 1000 minimum nights has influenced the correlation for revenue. But after removing that host, minimum nights and estimated revenue are not highly correlated."
      ]
    },
    {
      "cell_type": "markdown",
      "metadata": {
        "id": "324oYXKzRg9C",
        "colab_type": "text"
      },
      "source": [
        "It would be useful to know the most popular time of the year to rent in Seattle (so dont have to rent all year round and do maintenance during offpeak wont hurt revenue)"
      ]
    },
    {
      "cell_type": "code",
      "metadata": {
        "id": "C-V2FvyPOt55",
        "colab_type": "code",
        "cellView": "form",
        "outputId": "598fe0ae-e885-4472-f273-aa772c705967",
        "colab": {
          "base_uri": "https://localhost:8080/",
          "height": 336
        }
      },
      "source": [
        "#@title Best months for rental?\n",
        "\n",
        "plt.figure(figsize=(15, 5))\n",
        "\n",
        "# # bookings by month\n",
        "plotdata = pd_reviews[['date']].groupby(pd_reviews[\"date\"].dt.month).count()\n",
        "plotdata.rename(columns={'date':'# of bookings'}, inplace=True)\n",
        "\n",
        "ax = plt.subplot(1, 3, 1)\n",
        "ax.set_title(\"# bookings by month\")\n",
        "plt.bar(plotdata.index, plotdata['# of bookings'])\n",
        "\n",
        "# revenue by month\n",
        "plotdata2 = pd_bookings[['date','estimated_revenue']].groupby(pd_bookings[\"date\"].dt.month).sum()\n",
        "plotdata2.rename(columns={'estimated_revenue':'revenue'}, inplace=True)\n",
        "\n",
        "ax = plt.subplot(1, 3, 2)\n",
        "ax.set_title(\"revenue by month\")\n",
        "plt.bar(plotdata2.index, plotdata2['revenue'])\n",
        "\n",
        "# avg booking price by month\n",
        "plotdata3 = pd.concat([plotdata, plotdata2], axis=1)\n",
        "plotdata3['avg booking price'] = plotdata3['revenue'] / plotdata3['# of bookings']\n",
        "plotdata3.head()\n",
        "\n",
        "ax = plt.subplot(1, 3, 3)\n",
        "ax.set_title(\"avg booking price by month\")\n",
        "plt.bar(plotdata3.index, plotdata3['avg booking price'])\n",
        "\n",
        "_ = plt.plot()"
      ],
      "execution_count": 0,
      "outputs": [
        {
          "output_type": "display_data",
          "data": {
            "image/png": "[encoded data removed]",
            "text/plain": [
              "<Figure size 1080x360 with 3 Axes>"
            ]
          },
          "metadata": {
            "tags": []
          }
        }
      ]
    },
    {
      "cell_type": "markdown",
      "metadata": {
        "id": "KwVrOl4wKZcp",
        "colab_type": "text"
      },
      "source": [
        "Jul, Aug and Sep are the best period to maximise revenue.\n",
        "Before May are the best time for maintenance work\n",
        "Oct to Dec is a good time to take a break and enjoy the holidays.\n",
        "\n",
        "Dive into the price, what are the range, and where are the expensive listings? To normalise price to compare between listings, we usually look at per person per night. That's what we usually do when we travel."
      ]
    },
    {
      "cell_type": "code",
      "metadata": {
        "id": "GO-W4iuF7YMK",
        "colab_type": "code",
        "cellView": "form",
        "outputId": "78d0a252-d2d8-4e24-b6b4-15dba9e37fb5",
        "colab": {
          "base_uri": "https://localhost:8080/",
          "height": 422
        }
      },
      "source": [
        "#@title Price distribution of listings, per person, per night\n",
        "pd_listings['price_per_person_per_night'] = pd_listings['price'] / pd_listings['accommodates'] / pd_listings['minimum_nights']\n",
        "n, bins, patches = plt.hist(pd_listings['price_per_person_per_night'], 100, facecolor='blue', alpha=0.5)\n",
        "print(pd_listings['price_per_person_per_night'].describe())"
      ],
      "execution_count": 0,
      "outputs": [
        {
          "output_type": "stream",
          "text": [
            "count    3818.000000\n",
            "mean       27.137816\n",
            "std        19.962500\n",
            "min         0.037500\n",
            "25%        14.375000\n",
            "50%        22.500000\n",
            "75%        34.500000\n",
            "max       275.000000\n",
            "Name: price_per_person_per_night, dtype: float64\n"
          ],
          "name": "stdout"
        },
        {
          "output_type": "display_data",
          "data": {
            "image/png": "[encoded data removed]",
            "text/plain": [
              "<Figure size 432x288 with 1 Axes>"
            ]
          },
          "metadata": {
            "tags": []
          }
        }
      ]
    },
    {
      "cell_type": "code",
      "metadata": {
        "id": "B95w9Qed7bMf",
        "colab_type": "code",
        "cellView": "form",
        "outputId": "e9f5708a-93ca-4850-8af2-bd3f73acd10b",
        "colab": {
          "base_uri": "https://localhost:8080/",
          "height": 607
        }
      },
      "source": [
        "#@title Pricier than average Airbnbs\n",
        "\n",
        "filter_price_gt = 75\n",
        "\n",
        "plt.figure(figsize=(14, 10))\n",
        "\n",
        "ax = plt.subplot(1, 2, 1)\n",
        "ax.set_title(\"Price per person per night\")\n",
        "\n",
        "ax.set_autoscaley_on(False)\n",
        "ax.set_ylim([47.4, 47.8])\n",
        "ax.set_autoscalex_on(False)\n",
        "ax.set_xlim([-122.5, -122.2])\n",
        "plt.scatter(pd_listings[\"longitude\"],\n",
        "            pd_listings[\"latitude\"],\n",
        "            cmap=\"Oranges\",\n",
        "            c=pd_listings[\"price_per_person_per_night\"] / pd_listings[\"price_per_person_per_night\"].max())\n",
        "\n",
        "\n",
        "ax = plt.subplot(1, 2, 2)\n",
        "ax.set_title(\"Pricier than average Airbnbs\")\n",
        "\n",
        "ax.set_autoscaley_on(False)\n",
        "ax.set_ylim([47.4, 47.8])\n",
        "ax.set_autoscalex_on(False)\n",
        "ax.set_xlim([-122.5, -122.2])\n",
        "plt.scatter(pd_listings[pd_listings['price_per_person_per_night'] > filter_price_gt][\"longitude\"],\n",
        "            pd_listings[pd_listings['price_per_person_per_night'] > filter_price_gt][\"latitude\"],\n",
        "            cmap=\"coolwarm\",\n",
        "            c=pd_listings[pd_listings['price_per_person_per_night'] > filter_price_gt][\"price\"] / pd_listings[pd_listings['price_per_person_per_night'] > filter_price_gt][\"price\"].max())\n",
        "\n",
        "_ = plt.plot()"
      ],
      "execution_count": 0,
      "outputs": [
        {
          "output_type": "display_data",
          "data": {
            "image/png": "[encoded data removed]",
            "text/plain": [
              "<Figure size 1008x720 with 2 Axes>"
            ]
          },
          "metadata": {
            "tags": []
          }
        }
      ]
    },
    {
      "cell_type": "markdown",
      "metadata": {
        "id": "AMI3SYKtBldj",
        "colab_type": "text"
      },
      "source": [
        "Pricy listings are quite scattered, though we see a cluster of them at the middle.\n",
        "\n",
        "How about which neighbourhood has the highest revenue?\n"
      ]
    },
    {
      "cell_type": "code",
      "metadata": {
        "id": "y3U1pXz9CJQD",
        "colab_type": "code",
        "outputId": "65da9937-5a17-4b22-9902-59e1799bc224",
        "cellView": "both",
        "colab": {
          "base_uri": "https://localhost:8080/",
          "height": 767
        }
      },
      "source": [
        "#@title Revenue by neighbourhood\n",
        "\n",
        "pd_neighbourhood_revenue = pd_listings[['neighbourhood_group_cleansed','estimated_revenue']].groupby(['neighbourhood_group_cleansed']).mean().sort_values('estimated_revenue', ascending=False)\n",
        "print(pd_neighbourhood_revenue)\n",
        "\n",
        "pd_listings_plot = pd_listings[['neighbourhood_group_cleansed','longitude','latitude','estimated_revenue']]\n",
        "pd_listings_plot.loc[:,'color'] = 0\n",
        "\n",
        "color_value = 1\n",
        "for neighbourhood in pd_neighbourhood_revenue[0:3].index:\n",
        "  pd_listings_plot.at[pd_listings_plot['neighbourhood_group_cleansed'] == neighbourhood, 'color'] = color_value\n",
        "  color_value -= 0.2\n",
        "\n",
        "# plot\n",
        "plt.figure(figsize=(4, 7))\n",
        "ax = plt.subplot(1, 1, 1)\n",
        "ax.set_title(\"Top 3 revenue neighbourhoods\")\n",
        "\n",
        "ax.set_autoscaley_on(False)\n",
        "ax.set_ylim([47.4, 47.8])\n",
        "ax.set_autoscalex_on(False)\n",
        "ax.set_xlim([-122.5, -122.2])\n",
        "plt.scatter(pd_listings_plot['longitude'],\n",
        "            pd_listings_plot['latitude'],\n",
        "            cmap=\"coolwarm\",\n",
        "            c=pd_listings_plot['color']\n",
        "           )\n",
        "\n",
        "_ = plt.plot()"
      ],
      "execution_count": 0,
      "outputs": [
        {
          "output_type": "stream",
          "text": [
            "                              estimated_revenue\n",
            "neighbourhood_group_cleansed                   \n",
            "Downtown                            7247.666038\n",
            "Capitol Hill                        7064.079365\n",
            "Beacon Hill                         6606.983051\n",
            "Ballard                             6078.726087\n",
            "Queen Anne                          6038.752542\n",
            "Central Area                        4636.371274\n",
            "Other neighborhoods                 4409.843829\n",
            "Cascade                             4075.134831\n",
            "Seward Park                         4063.500000\n",
            "Rainier Valley                      3827.345912\n",
            "Delridge                            3641.189873\n",
            "Magnolia                            3587.819672\n",
            "West Seattle                        3370.783251\n",
            "Northgate                           2962.362500\n",
            "Lake City                           2476.432836\n",
            "Interbay                            2105.727273\n",
            "University District                 1558.557377\n"
          ],
          "name": "stdout"
        },
        {
          "output_type": "display_data",
          "data": {
            "image/png": "[encoded data removed]",
            "text/plain": [
              "<Figure size 288x504 with 1 Axes>"
            ]
          },
          "metadata": {
            "tags": []
          }
        }
      ]
    },
    {
      "cell_type": "markdown",
      "metadata": {
        "id": "5zpsjqElKyl1",
        "colab_type": "text"
      },
      "source": [
        "Its clear that Downtown, Capitol Hill and Beacon Hill are the highest revenue neighbourhood. From Google Map, those looks like shopping and CBD district\n",
        "\n",
        "What are the common group size? is it 2? or family of 4? or larger? \n",
        "And if guest usually comes in 2s, is it over saturated? (supply and demand)\n"
      ]
    },
    {
      "cell_type": "code",
      "metadata": {
        "id": "6o5RFOjBJAaL",
        "colab_type": "code",
        "outputId": "5b0e8e13-3b26-40b7-c272-e1a1d3a6ed89",
        "cellView": "both",
        "colab": {
          "base_uri": "https://localhost:8080/",
          "height": 545
        }
      },
      "source": [
        "#@title Guests’ group size, and supply & demand\n",
        "\n",
        "def get_supply_demand_by(by_column_name, pd_listings, pd_bookings):\n",
        "  # get supply: number of listing that provide X \n",
        "  pd_listing_supply_by_pax = pd_listings[[by_column_name,'listing_id']].groupby([by_column_name]).count().sort_values('listing_id', ascending=False)\n",
        "  pd_listing_supply_by_pax.rename(columns={'listing_id':'# of listings'}, inplace=True)\n",
        "\n",
        "  # get demand base on bookings\n",
        "  pd_listing_demand_by_pax = pd_bookings[[by_column_name,'id']].groupby([by_column_name]).count().sort_values('id', ascending=False)\n",
        "  pd_listing_demand_by_pax.rename(columns={'id':'# of bookings'}, inplace=True)\n",
        "\n",
        "  # merge supply and demand\n",
        "  pd_listing_supply_demand_pax = pd.concat([pd_listing_supply_by_pax, pd_listing_demand_by_pax], axis=1)\n",
        "  pd_listing_supply_demand_pax['ratio'] = pd_listing_supply_demand_pax['# of bookings'] / pd_listing_supply_demand_pax['# of listings']\n",
        "\n",
        "  pd_listing_supply_demand_pax = pd_listing_supply_demand_pax.sort_values('ratio', ascending=False)\n",
        "\n",
        "  return pd_listing_supply_demand_pax\n",
        "\n",
        "get_supply_demand_by('accommodates', pd_listings, pd_bookings)"
      ],
      "execution_count": 0,
      "outputs": [
        {
          "output_type": "execute_result",
          "data": {
            "text/html": [
              "<div>\n",
              "<style scoped>\n",
              "    .dataframe tbody tr th:only-of-type {\n",
              "        vertical-align: middle;\n",
              "    }\n",
              "\n",
              "    .dataframe tbody tr th {\n",
              "        vertical-align: top;\n",
              "    }\n",
              "\n",
              "    .dataframe thead th {\n",
              "        text-align: right;\n",
              "    }\n",
              "</style>\n",
              "<table border=\"1\" class=\"dataframe\">\n",
              "  <thead>\n",
              "    <tr style=\"text-align: right;\">\n",
              "      <th></th>\n",
              "      <th># of listings</th>\n",
              "      <th># of bookings</th>\n",
              "      <th>ratio</th>\n",
              "    </tr>\n",
              "    <tr>\n",
              "      <th>accommodates</th>\n",
              "      <th></th>\n",
              "      <th></th>\n",
              "      <th></th>\n",
              "    </tr>\n",
              "  </thead>\n",
              "  <tbody>\n",
              "    <tr>\n",
              "      <th>14</th>\n",
              "      <td>3</td>\n",
              "      <td>83</td>\n",
              "      <td>27.666667</td>\n",
              "    </tr>\n",
              "    <tr>\n",
              "      <th>2</th>\n",
              "      <td>1627</td>\n",
              "      <td>42821</td>\n",
              "      <td>26.318992</td>\n",
              "    </tr>\n",
              "    <tr>\n",
              "      <th>3</th>\n",
              "      <td>398</td>\n",
              "      <td>10170</td>\n",
              "      <td>25.552764</td>\n",
              "    </tr>\n",
              "    <tr>\n",
              "      <th>10</th>\n",
              "      <td>25</td>\n",
              "      <td>520</td>\n",
              "      <td>20.800000</td>\n",
              "    </tr>\n",
              "    <tr>\n",
              "      <th>4</th>\n",
              "      <td>785</td>\n",
              "      <td>16041</td>\n",
              "      <td>20.434395</td>\n",
              "    </tr>\n",
              "    <tr>\n",
              "      <th>7</th>\n",
              "      <td>52</td>\n",
              "      <td>956</td>\n",
              "      <td>18.384615</td>\n",
              "    </tr>\n",
              "    <tr>\n",
              "      <th>5</th>\n",
              "      <td>184</td>\n",
              "      <td>3221</td>\n",
              "      <td>17.505435</td>\n",
              "    </tr>\n",
              "    <tr>\n",
              "      <th>6</th>\n",
              "      <td>332</td>\n",
              "      <td>5580</td>\n",
              "      <td>16.807229</td>\n",
              "    </tr>\n",
              "    <tr>\n",
              "      <th>12</th>\n",
              "      <td>15</td>\n",
              "      <td>229</td>\n",
              "      <td>15.266667</td>\n",
              "    </tr>\n",
              "    <tr>\n",
              "      <th>1</th>\n",
              "      <td>256</td>\n",
              "      <td>3542</td>\n",
              "      <td>13.835938</td>\n",
              "    </tr>\n",
              "    <tr>\n",
              "      <th>8</th>\n",
              "      <td>119</td>\n",
              "      <td>1501</td>\n",
              "      <td>12.613445</td>\n",
              "    </tr>\n",
              "    <tr>\n",
              "      <th>16</th>\n",
              "      <td>4</td>\n",
              "      <td>48</td>\n",
              "      <td>12.000000</td>\n",
              "    </tr>\n",
              "    <tr>\n",
              "      <th>15</th>\n",
              "      <td>2</td>\n",
              "      <td>19</td>\n",
              "      <td>9.500000</td>\n",
              "    </tr>\n",
              "    <tr>\n",
              "      <th>9</th>\n",
              "      <td>13</td>\n",
              "      <td>98</td>\n",
              "      <td>7.538462</td>\n",
              "    </tr>\n",
              "    <tr>\n",
              "      <th>11</th>\n",
              "      <td>3</td>\n",
              "      <td>20</td>\n",
              "      <td>6.666667</td>\n",
              "    </tr>\n",
              "  </tbody>\n",
              "</table>\n",
              "</div>"
            ],
            "text/plain": [
              "              # of listings  # of bookings      ratio\n",
              "accommodates                                         \n",
              "14                        3             83  27.666667\n",
              "2                      1627          42821  26.318992\n",
              "3                       398          10170  25.552764\n",
              "10                       25            520  20.800000\n",
              "4                       785          16041  20.434395\n",
              "7                        52            956  18.384615\n",
              "5                       184           3221  17.505435\n",
              "6                       332           5580  16.807229\n",
              "12                       15            229  15.266667\n",
              "1                       256           3542  13.835938\n",
              "8                       119           1501  12.613445\n",
              "16                        4             48  12.000000\n",
              "15                        2             19   9.500000\n",
              "9                        13             98   7.538462\n",
              "11                        3             20   6.666667"
            ]
          },
          "metadata": {
            "tags": []
          },
          "execution_count": 16
        }
      ]
    },
    {
      "cell_type": "markdown",
      "metadata": {
        "id": "sjAjmW9dFn4l",
        "colab_type": "text"
      },
      "source": [
        "A place for 14 ranked first, but the demand is considered low (83 bookings) as compared to places for 2 or 3 person.\n",
        "\n",
        "Renting a place for 2 or 3 person will give host a pretty good regular rentals.\n",
        "\n",
        "Do these guests prefer 1 bedroom or 2 separate bedrooms?"
      ]
    },
    {
      "cell_type": "code",
      "metadata": {
        "id": "sqMnloeaBOgC",
        "colab_type": "code",
        "outputId": "d67c7799-9ddb-4e42-ef24-7c13654b3ee5",
        "cellView": "form",
        "colab": {
          "base_uri": "https://localhost:8080/",
          "height": 173
        }
      },
      "source": [
        "#@title Bedrooms configurations for 2 person\n",
        "get_supply_demand_by('bedrooms', pd_listings[pd_listings['accommodates']<=2], pd_bookings[pd_bookings['accommodates']<=2])"
      ],
      "execution_count": 0,
      "outputs": [
        {
          "output_type": "execute_result",
          "data": {
            "text/html": [
              "<div>\n",
              "<style scoped>\n",
              "    .dataframe tbody tr th:only-of-type {\n",
              "        vertical-align: middle;\n",
              "    }\n",
              "\n",
              "    .dataframe tbody tr th {\n",
              "        vertical-align: top;\n",
              "    }\n",
              "\n",
              "    .dataframe thead th {\n",
              "        text-align: right;\n",
              "    }\n",
              "</style>\n",
              "<table border=\"1\" class=\"dataframe\">\n",
              "  <thead>\n",
              "    <tr style=\"text-align: right;\">\n",
              "      <th></th>\n",
              "      <th># of listings</th>\n",
              "      <th># of bookings</th>\n",
              "      <th>ratio</th>\n",
              "    </tr>\n",
              "    <tr>\n",
              "      <th>bedrooms</th>\n",
              "      <th></th>\n",
              "      <th></th>\n",
              "      <th></th>\n",
              "    </tr>\n",
              "  </thead>\n",
              "  <tbody>\n",
              "    <tr>\n",
              "      <th>1.0</th>\n",
              "      <td>1613</td>\n",
              "      <td>40897</td>\n",
              "      <td>25.354619</td>\n",
              "    </tr>\n",
              "    <tr>\n",
              "      <th>0.0</th>\n",
              "      <td>261</td>\n",
              "      <td>5376</td>\n",
              "      <td>20.597701</td>\n",
              "    </tr>\n",
              "    <tr>\n",
              "      <th>2.0</th>\n",
              "      <td>9</td>\n",
              "      <td>90</td>\n",
              "      <td>10.000000</td>\n",
              "    </tr>\n",
              "  </tbody>\n",
              "</table>\n",
              "</div>"
            ],
            "text/plain": [
              "          # of listings  # of bookings      ratio\n",
              "bedrooms                                         \n",
              "1.0                1613          40897  25.354619\n",
              "0.0                 261           5376  20.597701\n",
              "2.0                   9             90  10.000000"
            ]
          },
          "metadata": {
            "tags": []
          },
          "execution_count": 17
        }
      ]
    },
    {
      "cell_type": "code",
      "metadata": {
        "id": "rWhOATXB_oyH",
        "colab_type": "code",
        "outputId": "bbeee0c8-9983-4b95-fb60-9df783c12977",
        "cellView": "form",
        "colab": {
          "base_uri": "https://localhost:8080/",
          "height": 173
        }
      },
      "source": [
        "#@title Bedrooms configurations for 3 person\n",
        "get_supply_demand_by('bedrooms', pd_listings[pd_listings['accommodates']==3], pd_bookings[pd_bookings['accommodates']==3])"
      ],
      "execution_count": 0,
      "outputs": [
        {
          "output_type": "execute_result",
          "data": {
            "text/html": [
              "<div>\n",
              "<style scoped>\n",
              "    .dataframe tbody tr th:only-of-type {\n",
              "        vertical-align: middle;\n",
              "    }\n",
              "\n",
              "    .dataframe tbody tr th {\n",
              "        vertical-align: top;\n",
              "    }\n",
              "\n",
              "    .dataframe thead th {\n",
              "        text-align: right;\n",
              "    }\n",
              "</style>\n",
              "<table border=\"1\" class=\"dataframe\">\n",
              "  <thead>\n",
              "    <tr style=\"text-align: right;\">\n",
              "      <th></th>\n",
              "      <th># of listings</th>\n",
              "      <th># of bookings</th>\n",
              "      <th>ratio</th>\n",
              "    </tr>\n",
              "    <tr>\n",
              "      <th>bedrooms</th>\n",
              "      <th></th>\n",
              "      <th></th>\n",
              "      <th></th>\n",
              "    </tr>\n",
              "  </thead>\n",
              "  <tbody>\n",
              "    <tr>\n",
              "      <th>1.0</th>\n",
              "      <td>311</td>\n",
              "      <td>8214</td>\n",
              "      <td>26.411576</td>\n",
              "    </tr>\n",
              "    <tr>\n",
              "      <th>0.0</th>\n",
              "      <td>53</td>\n",
              "      <td>1396</td>\n",
              "      <td>26.339623</td>\n",
              "    </tr>\n",
              "    <tr>\n",
              "      <th>2.0</th>\n",
              "      <td>34</td>\n",
              "      <td>560</td>\n",
              "      <td>16.470588</td>\n",
              "    </tr>\n",
              "  </tbody>\n",
              "</table>\n",
              "</div>"
            ],
            "text/plain": [
              "          # of listings  # of bookings      ratio\n",
              "bedrooms                                         \n",
              "1.0                 311           8214  26.411576\n",
              "0.0                  53           1396  26.339623\n",
              "2.0                  34            560  16.470588"
            ]
          },
          "metadata": {
            "tags": []
          },
          "execution_count": 18
        }
      ]
    },
    {
      "cell_type": "markdown",
      "metadata": {
        "id": "LJzMgw-5IZbX",
        "colab_type": "text"
      },
      "source": [
        "Majority prefers 1 bed room, less than 1% prefers 2 bedrooms (90 out of 40897). But wait, 0 bedrooms, what are kind of apartments are these?"
      ]
    },
    {
      "cell_type": "code",
      "metadata": {
        "id": "_bCXM69aCH-b",
        "colab_type": "code",
        "outputId": "76fd1b5c-89a7-4036-eeb1-b6feb7bc9c4a",
        "cellView": "form",
        "colab": {
          "base_uri": "https://localhost:8080/",
          "height": 111
        }
      },
      "source": [
        "#@title Places with 0 bedrooms\n",
        "pd_listings[pd_listings['bedrooms']==0][['room_type','listing_id']].groupby(['room_type']).count().sort_values('listing_id', ascending=False)"
      ],
      "execution_count": 0,
      "outputs": [
        {
          "output_type": "execute_result",
          "data": {
            "text/html": [
              "<div>\n",
              "<style scoped>\n",
              "    .dataframe tbody tr th:only-of-type {\n",
              "        vertical-align: middle;\n",
              "    }\n",
              "\n",
              "    .dataframe tbody tr th {\n",
              "        vertical-align: top;\n",
              "    }\n",
              "\n",
              "    .dataframe thead th {\n",
              "        text-align: right;\n",
              "    }\n",
              "</style>\n",
              "<table border=\"1\" class=\"dataframe\">\n",
              "  <thead>\n",
              "    <tr style=\"text-align: right;\">\n",
              "      <th></th>\n",
              "      <th>listing_id</th>\n",
              "    </tr>\n",
              "    <tr>\n",
              "      <th>room_type</th>\n",
              "      <th></th>\n",
              "    </tr>\n",
              "  </thead>\n",
              "  <tbody>\n",
              "    <tr>\n",
              "      <th>Entire home/apt</th>\n",
              "      <td>378</td>\n",
              "    </tr>\n",
              "  </tbody>\n",
              "</table>\n",
              "</div>"
            ],
            "text/plain": [
              "                 listing_id\n",
              "room_type                  \n",
              "Entire home/apt         378"
            ]
          },
          "metadata": {
            "tags": []
          },
          "execution_count": 19
        }
      ]
    },
    {
      "cell_type": "markdown",
      "metadata": {
        "id": "8WPuQaDCI_bl",
        "colab_type": "text"
      },
      "source": [
        "All these 0 bedrooms apartments are renting their entire home, so we can assume these have 1 room. I hope they provide beds?"
      ]
    },
    {
      "cell_type": "code",
      "metadata": {
        "id": "7d60LtfyI-fZ",
        "colab_type": "code",
        "outputId": "468c2e9e-74dd-44e0-ea31-07631cde0935",
        "cellView": "form",
        "colab": {
          "base_uri": "https://localhost:8080/",
          "height": 204
        }
      },
      "source": [
        "#@title Number of beds in 0 bedrooms apartments\n",
        "pd_bed_count = pd_listings[pd_listings['bedrooms']==0][['beds','listing_id']].groupby(['beds']).count().sort_values('listing_id', ascending=False)\n",
        "pd_bed_count.rename(columns={'listing_id':'# of listings'}, inplace=True)\n",
        "pd_bed_count"
      ],
      "execution_count": 0,
      "outputs": [
        {
          "output_type": "execute_result",
          "data": {
            "text/html": [
              "<div>\n",
              "<style scoped>\n",
              "    .dataframe tbody tr th:only-of-type {\n",
              "        vertical-align: middle;\n",
              "    }\n",
              "\n",
              "    .dataframe tbody tr th {\n",
              "        vertical-align: top;\n",
              "    }\n",
              "\n",
              "    .dataframe thead th {\n",
              "        text-align: right;\n",
              "    }\n",
              "</style>\n",
              "<table border=\"1\" class=\"dataframe\">\n",
              "  <thead>\n",
              "    <tr style=\"text-align: right;\">\n",
              "      <th></th>\n",
              "      <th># of listings</th>\n",
              "    </tr>\n",
              "    <tr>\n",
              "      <th>beds</th>\n",
              "      <th></th>\n",
              "    </tr>\n",
              "  </thead>\n",
              "  <tbody>\n",
              "    <tr>\n",
              "      <th>1.0</th>\n",
              "      <td>292</td>\n",
              "    </tr>\n",
              "    <tr>\n",
              "      <th>2.0</th>\n",
              "      <td>76</td>\n",
              "    </tr>\n",
              "    <tr>\n",
              "      <th>3.0</th>\n",
              "      <td>8</td>\n",
              "    </tr>\n",
              "    <tr>\n",
              "      <th>4.0</th>\n",
              "      <td>2</td>\n",
              "    </tr>\n",
              "  </tbody>\n",
              "</table>\n",
              "</div>"
            ],
            "text/plain": [
              "      # of listings\n",
              "beds               \n",
              "1.0             292\n",
              "2.0              76\n",
              "3.0               8\n",
              "4.0               2"
            ]
          },
          "metadata": {
            "tags": []
          },
          "execution_count": 20
        }
      ]
    },
    {
      "cell_type": "markdown",
      "metadata": {
        "id": "CcIdrvH9JZZ-",
        "colab_type": "text"
      },
      "source": [
        "At least 1 bed are provided in these 0 bedrooms apartments"
      ]
    },
    {
      "cell_type": "code",
      "metadata": {
        "id": "HXXs50_63nXc",
        "colab_type": "code",
        "outputId": "9e49fe93-48d0-4789-abcb-6b4f730e5a8f",
        "cellView": "form",
        "colab": {
          "base_uri": "https://localhost:8080/",
          "height": 452
        }
      },
      "source": [
        "#@title Popular bed configurations\n",
        "pd_bed_count = pd_listings[['beds','listing_id']].groupby(['beds']).count().sort_values('listing_id', ascending=False)\n",
        "pd_bed_count.rename(columns={'listing_id':'# of listings'}, inplace=True)\n",
        "pd_bed_count"
      ],
      "execution_count": 0,
      "outputs": [
        {
          "output_type": "execute_result",
          "data": {
            "text/html": [
              "<div>\n",
              "<style scoped>\n",
              "    .dataframe tbody tr th:only-of-type {\n",
              "        vertical-align: middle;\n",
              "    }\n",
              "\n",
              "    .dataframe tbody tr th {\n",
              "        vertical-align: top;\n",
              "    }\n",
              "\n",
              "    .dataframe thead th {\n",
              "        text-align: right;\n",
              "    }\n",
              "</style>\n",
              "<table border=\"1\" class=\"dataframe\">\n",
              "  <thead>\n",
              "    <tr style=\"text-align: right;\">\n",
              "      <th></th>\n",
              "      <th># of listings</th>\n",
              "    </tr>\n",
              "    <tr>\n",
              "      <th>beds</th>\n",
              "      <th></th>\n",
              "    </tr>\n",
              "  </thead>\n",
              "  <tbody>\n",
              "    <tr>\n",
              "      <th>1.0</th>\n",
              "      <td>2201</td>\n",
              "    </tr>\n",
              "    <tr>\n",
              "      <th>2.0</th>\n",
              "      <td>912</td>\n",
              "    </tr>\n",
              "    <tr>\n",
              "      <th>3.0</th>\n",
              "      <td>433</td>\n",
              "    </tr>\n",
              "    <tr>\n",
              "      <th>4.0</th>\n",
              "      <td>152</td>\n",
              "    </tr>\n",
              "    <tr>\n",
              "      <th>5.0</th>\n",
              "      <td>73</td>\n",
              "    </tr>\n",
              "    <tr>\n",
              "      <th>6.0</th>\n",
              "      <td>21</td>\n",
              "    </tr>\n",
              "    <tr>\n",
              "      <th>7.0</th>\n",
              "      <td>14</td>\n",
              "    </tr>\n",
              "    <tr>\n",
              "      <th>8.0</th>\n",
              "      <td>4</td>\n",
              "    </tr>\n",
              "    <tr>\n",
              "      <th>9.0</th>\n",
              "      <td>4</td>\n",
              "    </tr>\n",
              "    <tr>\n",
              "      <th>10.0</th>\n",
              "      <td>2</td>\n",
              "    </tr>\n",
              "    <tr>\n",
              "      <th>0.0</th>\n",
              "      <td>1</td>\n",
              "    </tr>\n",
              "    <tr>\n",
              "      <th>15.0</th>\n",
              "      <td>1</td>\n",
              "    </tr>\n",
              "  </tbody>\n",
              "</table>\n",
              "</div>"
            ],
            "text/plain": [
              "      # of listings\n",
              "beds               \n",
              "1.0            2201\n",
              "2.0             912\n",
              "3.0             433\n",
              "4.0             152\n",
              "5.0              73\n",
              "6.0              21\n",
              "7.0              14\n",
              "8.0               4\n",
              "9.0               4\n",
              "10.0              2\n",
              "0.0               1\n",
              "15.0              1"
            ]
          },
          "metadata": {
            "tags": []
          },
          "execution_count": 21
        }
      ]
    },
    {
      "cell_type": "code",
      "metadata": {
        "id": "nOiHT1bJSVWE",
        "colab_type": "code",
        "outputId": "52e13497-69af-49ff-f4e5-01de9e626779",
        "cellView": "form",
        "colab": {
          "base_uri": "https://localhost:8080/",
          "height": 328
        }
      },
      "source": [
        "#@title Bedroom configurations with highest demands?\n",
        "get_supply_demand_by('bedrooms', pd_listings, pd_bookings)"
      ],
      "execution_count": 0,
      "outputs": [
        {
          "output_type": "execute_result",
          "data": {
            "text/html": [
              "<div>\n",
              "<style scoped>\n",
              "    .dataframe tbody tr th:only-of-type {\n",
              "        vertical-align: middle;\n",
              "    }\n",
              "\n",
              "    .dataframe tbody tr th {\n",
              "        vertical-align: top;\n",
              "    }\n",
              "\n",
              "    .dataframe thead th {\n",
              "        text-align: right;\n",
              "    }\n",
              "</style>\n",
              "<table border=\"1\" class=\"dataframe\">\n",
              "  <thead>\n",
              "    <tr style=\"text-align: right;\">\n",
              "      <th></th>\n",
              "      <th># of listings</th>\n",
              "      <th># of bookings</th>\n",
              "      <th>ratio</th>\n",
              "    </tr>\n",
              "    <tr>\n",
              "      <th>bedrooms</th>\n",
              "      <th></th>\n",
              "      <th></th>\n",
              "      <th></th>\n",
              "    </tr>\n",
              "  </thead>\n",
              "  <tbody>\n",
              "    <tr>\n",
              "      <th>1.0</th>\n",
              "      <td>2417</td>\n",
              "      <td>61399</td>\n",
              "      <td>25.402979</td>\n",
              "    </tr>\n",
              "    <tr>\n",
              "      <th>0.0</th>\n",
              "      <td>378</td>\n",
              "      <td>8403</td>\n",
              "      <td>22.230159</td>\n",
              "    </tr>\n",
              "    <tr>\n",
              "      <th>2.0</th>\n",
              "      <td>640</td>\n",
              "      <td>10593</td>\n",
              "      <td>16.551562</td>\n",
              "    </tr>\n",
              "    <tr>\n",
              "      <th>6.0</th>\n",
              "      <td>6</td>\n",
              "      <td>82</td>\n",
              "      <td>13.666667</td>\n",
              "    </tr>\n",
              "    <tr>\n",
              "      <th>3.0</th>\n",
              "      <td>283</td>\n",
              "      <td>3593</td>\n",
              "      <td>12.696113</td>\n",
              "    </tr>\n",
              "    <tr>\n",
              "      <th>5.0</th>\n",
              "      <td>24</td>\n",
              "      <td>205</td>\n",
              "      <td>8.541667</td>\n",
              "    </tr>\n",
              "    <tr>\n",
              "      <th>4.0</th>\n",
              "      <td>69</td>\n",
              "      <td>569</td>\n",
              "      <td>8.246377</td>\n",
              "    </tr>\n",
              "    <tr>\n",
              "      <th>7.0</th>\n",
              "      <td>1</td>\n",
              "      <td>5</td>\n",
              "      <td>5.000000</td>\n",
              "    </tr>\n",
              "  </tbody>\n",
              "</table>\n",
              "</div>"
            ],
            "text/plain": [
              "          # of listings  # of bookings      ratio\n",
              "bedrooms                                         \n",
              "1.0                2417          61399  25.402979\n",
              "0.0                 378           8403  22.230159\n",
              "2.0                 640          10593  16.551562\n",
              "6.0                   6             82  13.666667\n",
              "3.0                 283           3593  12.696113\n",
              "5.0                  24            205   8.541667\n",
              "4.0                  69            569   8.246377\n",
              "7.0                   1              5   5.000000"
            ]
          },
          "metadata": {
            "tags": []
          },
          "execution_count": 22
        }
      ]
    },
    {
      "cell_type": "markdown",
      "metadata": {
        "id": "LR0fkoRUV_WD",
        "colab_type": "text"
      },
      "source": [
        "1 to 2 bedrooms configuration has most demands, or renting the entire home (zero bedrooms)."
      ]
    },
    {
      "cell_type": "code",
      "metadata": {
        "id": "sm1EcElYC_Z0",
        "colab_type": "code",
        "outputId": "888ac593-f57a-490a-93d2-e247582e6a34",
        "cellView": "form",
        "colab": {
          "base_uri": "https://localhost:8080/",
          "height": 593
        }
      },
      "source": [
        "#@title Which factors (ratings) matters the most to visitors of Seattle? \n",
        "\n",
        "pd_listings_reviews = pd_listings[['review_scores_rating','review_scores_accuracy','review_scores_cleanliness','review_scores_checkin','review_scores_communication','review_scores_location','review_scores_value']]\n",
        "\n",
        "def plot_topn_correlation_matrix_with_target(df, target_col_name, k=10):\n",
        "  corrmat = df.corr()\n",
        "  top_correlated_columns = corrmat.nlargest(k, target_col_name)[target_col_name].index\n",
        "  cm = np.corrcoef(df[top_correlated_columns].values.T)\n",
        "  sns.set(font_scale=1.25)\n",
        "  hm = sns.heatmap(cm, cbar=True, annot=True, square=True, fmt='.2f', annot_kws={'size': k}, yticklabels=top_correlated_columns.values, xticklabels=top_correlated_columns.values)\n",
        "  \n",
        "  return top_correlated_columns.values\n",
        "\n",
        "top_correlated_columns = plot_topn_correlation_matrix_with_target(pd_listings_reviews, 'review_scores_rating')\n",
        "\n",
        "print(\"Top most correlated columns:\")\n",
        "for i in top_correlated_columns:\n",
        "  if(i!='review_scores_rating'):\n",
        "    print(i)\n"
      ],
      "execution_count": 0,
      "outputs": [
        {
          "output_type": "stream",
          "text": [
            "Top most correlated columns:\n",
            "review_scores_communication\n",
            "review_scores_cleanliness\n",
            "review_scores_value\n",
            "review_scores_accuracy\n",
            "review_scores_checkin\n",
            "review_scores_location\n"
          ],
          "name": "stdout"
        },
        {
          "output_type": "display_data",
          "data": {
            "image/png": "[encoded data removed]",
            "text/plain": [
              "<Figure size 432x288 with 2 Axes>"
            ]
          },
          "metadata": {
            "tags": []
          }
        }
      ]
    },
    {
      "cell_type": "markdown",
      "metadata": {
        "id": "Dr8vcGtqJG2a",
        "colab_type": "text"
      },
      "source": [
        "Host with good communication is tends to get high overall rating, host in Seattle needs to be responsive and friendly. Good communication also directly impacts check-in rating."
      ]
    },
    {
      "cell_type": "code",
      "metadata": {
        "id": "xg-DBRKBC_t0",
        "colab_type": "code",
        "outputId": "4e160ea6-d2c5-4497-f0d7-fa117369de50",
        "cellView": "form",
        "colab": {
          "base_uri": "https://localhost:8080/",
          "height": 409
        }
      },
      "source": [
        "#@title Does good rating affects price and revenue?\n",
        "\n",
        "_ = plot_topn_correlation_matrix_with_target(pd_listings[['estimated_revenue','price','review_scores_rating']], 'review_scores_rating')"
      ],
      "execution_count": 0,
      "outputs": [
        {
          "output_type": "display_data",
          "data": {
            "image/png": "[encoded data removed]",
            "text/plain": [
              "<Figure size 432x288 with 2 Axes>"
            ]
          },
          "metadata": {
            "tags": []
          }
        }
      ]
    },
    {
      "cell_type": "markdown",
      "metadata": {
        "id": "K4aXWyzYKPFH",
        "colab_type": "text"
      },
      "source": [
        "Good rating has little impact to the price set by the host\n",
        "Good rating also have very small positive correlation with revenue"
      ]
    },
    {
      "cell_type": "markdown",
      "metadata": {
        "id": "3g60RL5LDByF",
        "colab_type": "text"
      },
      "source": [
        "How about amenities, what other host are providing in their amenities?"
      ]
    },
    {
      "cell_type": "code",
      "metadata": {
        "id": "FHI5_CqBJW8-",
        "colab_type": "code",
        "outputId": "83c4294c-ce32-4a5e-937b-1adc4995d748",
        "cellView": "form",
        "colab": {
          "base_uri": "https://localhost:8080/",
          "height": 297
        }
      },
      "source": [
        "#@title These are top 10 most common amenities\n",
        "rows_amenities = []\n",
        "rows_listing_id = []\n",
        "\n",
        "for id, row in pd_listings.loc[:, ['listing_id','amenities']].iterrows():\n",
        "  rows_listing_id.append(row['listing_id'])\n",
        "  \n",
        "  row_amenities = {}\n",
        "  amenities = row['amenities'].strip('{}')\n",
        "  for amenity in amenities.split(','):\n",
        "    row_amenities[amenity.strip('\"')] = 1\n",
        "  rows_amenities.append(row_amenities)\n",
        "\n",
        "pd_listings_amenities = pd.DataFrame(rows_amenities, index=rows_listing_id)\n",
        "pd_listings_amenities = pd_listings_amenities.fillna(0)\n",
        "pd_listings_amenities.drop('', axis=1, inplace=True)\n",
        "pd_listings_amenities['listing_id'] = pd_listings_amenities.index\n",
        "pd_listings_amenities = pd.merge(pd_listings_amenities, pd_listings[['listing_id','number_of_reviews']], on='listing_id')\n",
        "\n",
        "pd_rows_amenities = pd_listings_amenities.sum(axis=0)\n",
        "\n",
        "pd_amenities_count = pd.DataFrame({'amenities':pd_rows_amenities.index, 'count':pd_rows_amenities.values})\n",
        "pd_amenities_count = pd_amenities_count.sort_values('count', ascending=False)[:10]\n",
        "\n",
        "pd_amenities_count.drop(41, axis=0, inplace=True) # drop listing_id\n",
        "pd_amenities_count.drop(42, axis=0, inplace=True) # drop number_of_reviews\n",
        "pd_amenities_count"
      ],
      "execution_count": 0,
      "outputs": [
        {
          "output_type": "execute_result",
          "data": {
            "text/html": [
              "<div>\n",
              "<style scoped>\n",
              "    .dataframe tbody tr th:only-of-type {\n",
              "        vertical-align: middle;\n",
              "    }\n",
              "\n",
              "    .dataframe tbody tr th {\n",
              "        vertical-align: top;\n",
              "    }\n",
              "\n",
              "    .dataframe thead th {\n",
              "        text-align: right;\n",
              "    }\n",
              "</style>\n",
              "<table border=\"1\" class=\"dataframe\">\n",
              "  <thead>\n",
              "    <tr style=\"text-align: right;\">\n",
              "      <th></th>\n",
              "      <th>amenities</th>\n",
              "      <th>count</th>\n",
              "    </tr>\n",
              "  </thead>\n",
              "  <tbody>\n",
              "    <tr>\n",
              "      <th>40</th>\n",
              "      <td>Wireless Internet</td>\n",
              "      <td>3667.0</td>\n",
              "    </tr>\n",
              "    <tr>\n",
              "      <th>19</th>\n",
              "      <td>Heating</td>\n",
              "      <td>3627.0</td>\n",
              "    </tr>\n",
              "    <tr>\n",
              "      <th>24</th>\n",
              "      <td>Kitchen</td>\n",
              "      <td>3423.0</td>\n",
              "    </tr>\n",
              "    <tr>\n",
              "      <th>33</th>\n",
              "      <td>Smoke Detector</td>\n",
              "      <td>3281.0</td>\n",
              "    </tr>\n",
              "    <tr>\n",
              "      <th>11</th>\n",
              "      <td>Essentials</td>\n",
              "      <td>3237.0</td>\n",
              "    </tr>\n",
              "    <tr>\n",
              "      <th>9</th>\n",
              "      <td>Dryer</td>\n",
              "      <td>2997.0</td>\n",
              "    </tr>\n",
              "    <tr>\n",
              "      <th>37</th>\n",
              "      <td>Washer</td>\n",
              "      <td>2992.0</td>\n",
              "    </tr>\n",
              "    <tr>\n",
              "      <th>22</th>\n",
              "      <td>Internet</td>\n",
              "      <td>2811.0</td>\n",
              "    </tr>\n",
              "  </tbody>\n",
              "</table>\n",
              "</div>"
            ],
            "text/plain": [
              "            amenities   count\n",
              "40  Wireless Internet  3667.0\n",
              "19            Heating  3627.0\n",
              "24            Kitchen  3423.0\n",
              "33     Smoke Detector  3281.0\n",
              "11         Essentials  3237.0\n",
              "9               Dryer  2997.0\n",
              "37             Washer  2992.0\n",
              "22           Internet  2811.0"
            ]
          },
          "metadata": {
            "tags": []
          },
          "execution_count": 25
        }
      ]
    },
    {
      "cell_type": "markdown",
      "metadata": {
        "id": "0LL2njSTXZEs",
        "colab_type": "text"
      },
      "source": [
        "Internet, heating and kitchen are listed as necessities in Seattle.\n",
        "\n",
        "Smoke detector? I just learnt that Washington State Building Code has required smoke detectors in all dwellings since the 1973."
      ]
    },
    {
      "cell_type": "code",
      "metadata": {
        "id": "Fcds48WtRAOR",
        "colab_type": "code",
        "outputId": "524e9920-852c-4875-8848-af7f6c89e52d",
        "cellView": "form",
        "colab": {
          "base_uri": "https://localhost:8080/",
          "height": 500
        }
      },
      "source": [
        "# @title Features with most weight by Linear Regression\n",
        "\n",
        "# prep data, normalise, one-hot\n",
        "from sklearn import preprocessing\n",
        "min_max_scaler = preprocessing.MinMaxScaler()\n",
        "\n",
        "pd_model_data_x = pd_listings[['neighbourhood_group_cleansed','property_type','room_type','accommodates','bathrooms','bedrooms','beds','guests_included']]\n",
        "pd_model_data_x['accommodates'] = min_max_scaler.fit_transform(pd_model_data_x[['accommodates']])\n",
        "pd_model_data_x['bathrooms'] = min_max_scaler.fit_transform(pd_model_data_x[['bathrooms']])\n",
        "pd_model_data_x['bedrooms'] = min_max_scaler.fit_transform(pd_model_data_x[['bedrooms']])\n",
        "pd_model_data_x['beds'] = min_max_scaler.fit_transform(pd_model_data_x[['beds']])\n",
        "pd_model_data_x['guests_included'] = min_max_scaler.fit_transform(pd_model_data_x[['guests_included']])\n",
        "\n",
        "pd_model_data_x = pd.get_dummies(pd_model_data_x, columns=['neighbourhood_group_cleansed','property_type','room_type'])\n",
        "pd_model_data_y = pd_listings['price']\n",
        "\n",
        "# train and test - x and y\n",
        "from sklearn.model_selection import train_test_split\n",
        "X_train, X_test, y_train, y_test = train_test_split(pd_model_data_x,pd_model_data_y,test_size=0.10, random_state=789)\n",
        "\n",
        "# linear regression\n",
        "from sklearn.linear_model import LinearRegression\n",
        "lm = LinearRegression()\n",
        "lm.fit(X_train, y_train)\n",
        "\n",
        "coefficients = pd.DataFrame({'feature': X_train.columns, 'importance': lm.coef_})\n",
        "_ = coefficients.sort_values('importance', ascending=False)[:15].plot(x='feature', y='importance', kind='bar')"
      ],
      "execution_count": 0,
      "outputs": [
        {
          "output_type": "display_data",
          "data": {
            "image/png": "[encoded data removed]",
            "text/plain": [
              "<Figure size 432x288 with 1 Axes>"
            ]
          },
          "metadata": {
            "tags": []
          }
        }
      ]
    },
    {
      "cell_type": "code",
      "metadata": {
        "id": "LpO1kf0zVc7C",
        "colab_type": "code",
        "outputId": "fe8ac877-bee0-4361-ef6b-6c191832030f",
        "cellView": "form",
        "colab": {
          "base_uri": "https://localhost:8080/",
          "height": 655
        }
      },
      "source": [
        "# @title Features with most weight by Decision Tree\n",
        "\n",
        "from sklearn import tree\n",
        "from sklearn.tree import DecisionTreeRegressor\n",
        "\n",
        "#Make the decision tree\n",
        "dtree = tree.DecisionTreeClassifier(\n",
        "    class_weight=\"balanced\",\n",
        "    min_weight_fraction_leaf=0.01,)\n",
        "dtree = dtree.fit(X_train,y_train)\n",
        "\n",
        "#Look at outputs\n",
        "importances = dtree.feature_importances_\n",
        "feat_names = X_train.columns\n",
        "tree_result = pd.DataFrame({'feature': feat_names, 'importance': importances})\n",
        "_ = tree_result.sort_values(by='importance',ascending=False)[:10].plot(x='feature', y='importance', kind='bar')\n"
      ],
      "execution_count": 0,
      "outputs": [
        {
          "output_type": "display_data",
          "data": {
            "image/png": "[encoded data removed]",
            "text/plain": [
              "<Figure size 432x288 with 1 Axes>"
            ]
          },
          "metadata": {
            "tags": []
          }
        }
      ]
    },
    {
      "cell_type": "markdown",
      "metadata": {
        "id": "oGdfbR7ZwUHj",
        "colab_type": "text"
      },
      "source": [
        "# Conclusion\n",
        "\n",
        "1)  Calendar\n",
        "\n",
        "    Jan - April : Maintenance\n",
        "\n",
        "    May - Sep : rental\n",
        "\n",
        "    Oct - Dec : Take a break\n",
        "\n",
        "2) Communications affect overall rating and check in rating.\n",
        "\n",
        "3) Price and Revenue are not affected by ratings.\n",
        "\n",
        "4) Make rooms for 2 to 3 guests.\n",
        "\n",
        "5) Providing wireless internet, heating and kitchen are common."
      ]
    }
  ]
}